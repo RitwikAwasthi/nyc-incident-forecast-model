{
 "cells": [
  {
   "metadata": {},
   "cell_type": "markdown",
   "source": "# Cyclic Encoding",
   "id": "6971632c75d78b4f"
  },
  {
   "metadata": {},
   "cell_type": "markdown",
   "source": "## Imports",
   "id": "8132c464e05c551"
  },
  {
   "cell_type": "code",
   "id": "bad81ae90aa6c28e",
   "metadata": {
    "collapsed": true
   },
   "source": [
    "import pandas as pd\n",
    "import numpy as np\n",
    "from sklearn.preprocessing import FunctionTransformer"
   ],
   "outputs": [],
   "execution_count": null
  },
  {
   "metadata": {},
   "cell_type": "markdown",
   "source": "## Helper Functions",
   "id": "14fe3bc8aa9ca364"
  },
  {
   "metadata": {},
   "cell_type": "code",
   "source": [
    "def is_float(num):\n",
    "    try:\n",
    "        return float(num)\n",
    "    except ValueError:\n",
    "        return np.nan\n",
    "\n",
    "# map to period on sin\n",
    "def sin_transformer(period):\n",
    "\treturn FunctionTransformer(lambda x: np.sin(x / period * 2 * np.pi))\n",
    "\n",
    "# map to a period on cosine\n",
    "def cos_transformer(period):\n",
    "\treturn FunctionTransformer(lambda x: np.cos(x / period * 2 * np.pi))\n",
    "    \n",
    "\n",
    "def transform_columns(df):\n",
    "    # convert time to cosine sin time\n",
    "    df['month_sin'] = sin_transformer(12).fit_transform(df['month_of_year'])\n",
    "    df['month_cos'] = cos_transformer(12).fit_transform(df['month_of_year'])\n",
    "    \n",
    "    df['day_sin'] = sin_transformer(31).fit_transform(df['day_of_month'])\n",
    "    df['day_cos'] = cos_transformer(31).fit_transform(df['day_of_month'])\n",
    "    \n",
    "    df['hour_sin'] = sin_transformer(24).fit_transform(df['hour_of_day'])\n",
    "    df['hour_cos'] = cos_transformer(24).fit_transform(df['hour_of_day'])\n",
    "    \n",
    "    df['weekday_sin'] = sin_transformer(7).fit_transform(df['day_of_week'])\n",
    "    df['weekday_cos'] = cos_transformer(7).fit_transform(df['day_of_week'])\n",
    "    \n",
    "    df['yearday_sin'] = sin_transformer(365).fit_transform(df['day_of_year'])\n",
    "    df['yearday_cos'] = cos_transformer(365).fit_transform(df['day_of_year'])\n",
    "    \n",
    "    # drop null rows if any\n",
    "    df = df.dropna()\n",
    "    \n",
    "    return df\n",
    "\n",
    "# convert numeric columns to float to prep for cyclic transform\n",
    "def ensure_numeric(df):\n",
    "    numeric_cols = ['month_of_year', 'day_of_month', 'hour_of_day', 'day_of_week', 'day_of_year']\n",
    "    for col in numeric_cols:\n",
    "        df[col] = df[col].apply(lambda x: is_float(x))\n",
    "    return df"
   ],
   "id": "initial_id",
   "outputs": [],
   "execution_count": null
  },
  {
   "metadata": {},
   "cell_type": "markdown",
   "source": "## Clean Data",
   "id": "f4f0ecf6d47344fa"
  },
  {
   "cell_type": "code",
   "source": [
    "# read generated dataset\n",
    "df = pd.read_csv('../data/nyc_grouped_incidents.csv')\n",
    "\n",
    "# clean and transform\n",
    "df = ensure_numeric(df)\n",
    "df = transform_columns(df)\n",
    "\n",
    "# save to csv\n",
    "df.to_csv('../data/encoded_df.csv', index=False)"
   ],
   "metadata": {
    "collapsed": false
   },
   "id": "b4a1c51a3696b3fd",
   "outputs": [],
   "execution_count": null
  },
  {
   "metadata": {},
   "cell_type": "code",
   "source": "",
   "id": "23fea7daa93a708d",
   "outputs": [],
   "execution_count": null
  }
 ],
 "metadata": {
  "kernelspec": {
   "display_name": "Python 3",
   "language": "python",
   "name": "python3"
  },
  "language_info": {
   "codemirror_mode": {
    "name": "ipython",
    "version": 2
   },
   "file_extension": ".py",
   "mimetype": "text/x-python",
   "name": "python",
   "nbconvert_exporter": "python",
   "pygments_lexer": "ipython2",
   "version": "2.7.6"
  }
 },
 "nbformat": 4,
 "nbformat_minor": 5
}
