{
 "cells": [
  {
   "metadata": {},
   "cell_type": "markdown",
   "source": "## Imports",
   "id": "6502349450a7f30d"
  },
  {
   "cell_type": "code",
   "id": "initial_id",
   "metadata": {
    "collapsed": true
   },
   "source": [
    "import pandas as pd\n",
    "import numpy as np\n",
    "import calendar\n",
    "import holidays\n",
    "from datetime import datetime\n",
    "\n",
    "date_format: str = \"%m/%d/%YT%H:%M:%SZ\"\n",
    "date_format_weather: str = \"%Y-%m-%dT%H:%M:%S\"\n",
    "us_holidays = holidays.UnitedStates()"
   ],
   "outputs": [],
   "execution_count": null
  },
  {
   "metadata": {},
   "cell_type": "markdown",
   "source": "## Helper Functions",
   "id": "7e500c5a80493a2f"
  },
  {
   "metadata": {},
   "cell_type": "code",
   "source": [
    "# mode of series\n",
    "def mode_(s):\n",
    "    try:\n",
    "        return s.mode()[0]\n",
    "    except IndexError:\n",
    "        return np.nan\n",
    "\n",
    "# convert string to datetime\n",
    "def convert_to_datetime_string(row):\n",
    "    try:\n",
    "        date_arr = row['INCIDENT_DATE'].split('/')\n",
    "        time_arr = row['INCIDENT_TIME'].split(':')\n",
    "        month = int(date_arr[0])\n",
    "        day = int(date_arr[1])\n",
    "        year = int(date_arr[2])\n",
    "        hour = int(time_arr[0])\n",
    "        datetime_str = datetime(year, month, day, hour, 0).strftime(date_format)\n",
    "        return datetime_str\n",
    "    except:\n",
    "        return \"NULL\"\n",
    "\n",
    "# prepare datetime for category\n",
    "def generate_predictors(df):\n",
    "    df['year'] = df['datetime'].apply(lambda x: x.year)\n",
    "    df['day_of_week'] = df['datetime'].apply(lambda x: x.isoweekday())\n",
    "    df['day_of_month'] = df['datetime'].apply(lambda x: x.day)\n",
    "    df['hour_of_day'] = df['datetime'].apply(lambda x: x.hour)\n",
    "    df['day_of_year'] = df['datetime'].apply(lambda x: x.timetuple().tm_yday)\n",
    "    df['month_of_year'] = df['datetime'].apply(lambda x: x.month)\n",
    "    df['is_holiday'] = df['datetime'].apply(lambda x: x in us_holidays)\n",
    "    df['is_leap_year'] = df['year'].apply(lambda x: calendar.isleap(x))\n",
    "    return df"
   ],
   "id": "d16cbe01105da18e",
   "outputs": [],
   "execution_count": null
  },
  {
   "metadata": {},
   "cell_type": "markdown",
   "source": "## Aggregate Data",
   "id": "60026445a106dc62"
  },
  {
   "metadata": {},
   "cell_type": "code",
   "source": [
    "calls = pd.read_csv('../data/nypd_911.csv')\n",
    "\n",
    "# reduce features\n",
    "calls = calls[[\"INCIDENT_TIME\", \"INCIDENT_DATE\", \"CAD_EVNT_ID\", \"BORO_NM\"]]\n",
    "\n",
    "# convert time to datetime string and drop extra columns\n",
    "calls['time'] = calls.apply(convert_to_datetime_string, axis=1)\n",
    "calls = calls.drop(['INCIDENT_DATE', 'INCIDENT_TIME'], axis=1)\n",
    "\n",
    "# drop null time entries\n",
    "calls = calls[calls['time'] != 'NULL']\n",
    "\n",
    "# apply datetime conversion\n",
    "calls['datetime'] = pd.to_datetime(calls['time'], format=date_format)\n",
    "calls = calls.drop(['time'], axis=1)\n",
    "\n",
    "# generate datetime category columns\n",
    "generate_predictors(calls)\n",
    "calls = calls.drop(['datetime'], axis=1)\n",
    "\n",
    "# group hourly entries by borough and count number of incidents\n",
    "gb_index = ['BORO_NM', 'year', \"month_of_year\", \"day_of_month\", \"day_of_week\", \"day_of_year\", \"hour_of_day\", \"is_holiday\", \"is_leap_year\"]\n",
    "grouped_calls = pd.DataFrame(calls.groupby(gb_index).agg({\"CAD_EVNT_ID\": \"count\"})).reset_index()\n",
    "\n",
    "# delete duplicates and remove entries with null borough\n",
    "grouped_calls.drop_duplicates(subset=gb_index, keep='first', inplace=True, ignore_index=True)\n",
    "final_df = grouped_calls[grouped_calls['BORO_NM'] != '(null)']\n",
    "final_df = final_df.sort_values(gb_index)\n",
    "\n",
    "# rename target: number of calls\n",
    "final_df['target'] = final_df['CAD_EVNT_ID'] \n",
    "final_df = final_df.drop('CAD_EVNT_ID', axis=1)\n",
    "\n",
    "# drop any null entries\n",
    "final_df = final_df.dropna()\n",
    "\n",
    "# sanity check\n",
    "print(\"\\nMissing Values:\")\n",
    "print(final_df.isna().sum())\n",
    "\n",
    "# save to csv\n",
    "final_df.to_csv('../data/nyc_grouped_incidents.csv', index=False)"
   ],
   "id": "2d4018ed5f7920aa",
   "outputs": [],
   "execution_count": null
  }
 ],
 "metadata": {
  "kernelspec": {
   "display_name": "Python 3",
   "language": "python",
   "name": "python3"
  },
  "language_info": {
   "codemirror_mode": {
    "name": "ipython",
    "version": 2
   },
   "file_extension": ".py",
   "mimetype": "text/x-python",
   "name": "python",
   "nbconvert_exporter": "python",
   "pygments_lexer": "ipython2",
   "version": "2.7.6"
  }
 },
 "nbformat": 4,
 "nbformat_minor": 5
}
